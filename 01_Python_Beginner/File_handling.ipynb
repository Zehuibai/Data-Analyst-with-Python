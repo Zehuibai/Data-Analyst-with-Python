{
 "cells": [
  {
   "cell_type": "markdown",
   "metadata": {},
   "source": [
    "# File Handling\n",
    "\n",
    "## Syntax\n",
    "\n",
    "The key function for working with files in Python is the open() function.\n",
    "The open() function takes two parameters; filename, and mode.\n",
    "\n",
    "* \"r\" - Read - Default value. Opens a file for reading, error if the file does not exist\n",
    "* \"a\" - Append - Opens a file for appending, creates the file if it does not exist\n",
    "* \"w\" - Write - Opens a file for writing, creates the file if it does not exist\n",
    "* \"x\" - Create - Creates the specified file, returns an error if the file exists\n",
    "* \"t\" - Text - Default value. Text mode\n",
    "* \"b\" - Binary - Binary mode (e.g. images)"
   ]
  },
  {
   "cell_type": "markdown",
   "metadata": {},
   "source": [
    "## File Open"
   ]
  },
  {
   "cell_type": "code",
   "execution_count": 2,
   "metadata": {},
   "outputs": [
    {
     "name": "stdout",
     "output_type": "stream",
     "text": [
      "/Users/zehuibai/Documents/GitHub/Data-Projects/Python/01_Python_Beginner\n"
     ]
    }
   ],
   "source": [
    "#################################################\n",
    "### Set Python Directory and Files Management\n",
    "#################################################\n",
    "import os\n",
    "## Get Current Directory\n",
    "os.getcwd()\n",
    "print(os.getcwd())\n",
    "\n",
    "## Changing Directory\n",
    "os.chdir('/Users/zehuibai/Documents/GitHub/Data-Projects/Python/00_Data')\n",
    "## os.chdir('C:\\\\Users\\\\zbai\\\\Documents\\\\GitHub\\\\Data-Projects\\\\Python\\\\00_Data')\n",
    "# List Directories and Files\n",
    "# os.listdir()"
   ]
  },
  {
   "cell_type": "code",
   "execution_count": 3,
   "metadata": {},
   "outputs": [
    {
     "name": "stdout",
     "output_type": "stream",
     "text": [
      "Woops! I have deleted the content!\n"
     ]
    }
   ],
   "source": [
    "f = open(\"ex3.txt\", \"r\")\n",
    "print(f.read())\n",
    "\n",
    "# Open a file on a different location:\n",
    "# f = open(\"D:\\\\myfiles\\welcome.txt\", \"r\")\n",
    "# print(f.read())\n",
    "\n"
   ]
  },
  {
   "cell_type": "code",
   "execution_count": 4,
   "metadata": {},
   "outputs": [
    {
     "name": "stdout",
     "output_type": "stream",
     "text": [
      "Woops! I have deleted the content!\n",
      "\n"
     ]
    }
   ],
   "source": [
    "# Return the 5 first characters of the file:\n",
    "f = open(\"ex3.txt\", \"r\")\n",
    "print(f.readline())\n",
    "print(f.readline())"
   ]
  },
  {
   "cell_type": "code",
   "execution_count": 5,
   "metadata": {},
   "outputs": [
    {
     "name": "stdout",
     "output_type": "stream",
     "text": [
      "Woops! I have deleted the content!\n"
     ]
    }
   ],
   "source": [
    "# Loop through the file line by line:\n",
    "# Close the file when you are finish with it\n",
    "f = open(\"ex3.txt\", \"r\")\n",
    "for x in f:\n",
    "  print(x)\n",
    "f.close()"
   ]
  },
  {
   "cell_type": "markdown",
   "metadata": {},
   "source": [
    "## File Write\n",
    "\n",
    "* \"a\" - Append - will append to the end of the file\n",
    "* \"w\" - Write - will overwrite any existing content"
   ]
  },
  {
   "cell_type": "code",
   "execution_count": 6,
   "metadata": {},
   "outputs": [
    {
     "name": "stdout",
     "output_type": "stream",
     "text": [
      "Woops! I have deleted the content!Now the file has more content!\n"
     ]
    }
   ],
   "source": [
    "f = open(\"ex3.txt\", \"a\")\n",
    "f.write(\"Now the file has more content!\")\n",
    "f.close()\n",
    "\n",
    "# open and read the file after the appending:\n",
    "f = open(\"ex3.txt\", \"r\")\n",
    "print(f.read())"
   ]
  },
  {
   "cell_type": "code",
   "execution_count": 7,
   "metadata": {},
   "outputs": [
    {
     "name": "stdout",
     "output_type": "stream",
     "text": [
      "Woops! I have deleted the content!\n"
     ]
    }
   ],
   "source": [
    "f = open(\"ex3.txt\", \"w\")\n",
    "f.write(\"Woops! I have deleted the content!\")\n",
    "f.close()\n",
    "\n",
    "#open and read the file after the appending:\n",
    "f = open(\"ex3.txt\", \"r\")\n",
    "print(f.read())"
   ]
  },
  {
   "cell_type": "markdown",
   "metadata": {},
   "source": [
    "## Delete File\n",
    "\n",
    "import os\n",
    "os.remove(\"demofile.txt\")"
   ]
  },
  {
   "cell_type": "code",
   "execution_count": 8,
   "metadata": {},
   "outputs": [
    {
     "name": "stdout",
     "output_type": "stream",
     "text": [
      "The file does not exist\n"
     ]
    }
   ],
   "source": [
    "# Check if file exists, then delete it:\n",
    "\n",
    "import os\n",
    "if os.path.exists(\"demofile.txt\"):\n",
    "  os.remove(\"demofile.txt\")\n",
    "else:\n",
    "  print(\"The file does not exist\")"
   ]
  }
 ],
 "metadata": {
  "interpreter": {
   "hash": "aee8b7b246df8f9039afb4144a1f6fd8d2ca17a180786b69acc140d282b71a49"
  },
  "kernelspec": {
   "display_name": "Python 3.9.2 64-bit",
   "language": "python",
   "name": "python3"
  },
  "language_info": {
   "codemirror_mode": {
    "name": "ipython",
    "version": 3
   },
   "file_extension": ".py",
   "mimetype": "text/x-python",
   "name": "python",
   "nbconvert_exporter": "python",
   "pygments_lexer": "ipython3",
   "version": "3.9.2"
  },
  "orig_nbformat": 4,
  "vscode": {
   "interpreter": {
    "hash": "788f691d7814ee94ddf78b20cc88b00d9c34d420ec7af2121da26cb34bee5e89"
   }
  }
 },
 "nbformat": 4,
 "nbformat_minor": 2
}
